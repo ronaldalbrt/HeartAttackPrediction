{
 "cells": [
  {
   "cell_type": "code",
   "execution_count": 1,
   "metadata": {},
   "outputs": [
    {
     "name": "stderr",
     "output_type": "stream",
     "text": [
      "\u001b[32m\u001b[1m  Activating\u001b[22m\u001b[39m project at `~/Documents/IC2Project`\n"
     ]
    }
   ],
   "source": [
    "using Pkg\n",
    "Pkg.activate(\"../\")\n",
    "Pkg.instantiate()\n",
    "\n",
    "using DataFrames, PlotlyJS, Plots, CSV"
   ]
  },
  {
   "cell_type": "code",
   "execution_count": 2,
   "metadata": {},
   "outputs": [],
   "source": [
    "using MLJ, Combinatorics, MLJBase, LIBSVM, Clustering, LinearAlgebra"
   ]
  },
  {
   "cell_type": "markdown",
   "metadata": {},
   "source": [
    "# Importando a Base"
   ]
  },
  {
   "cell_type": "code",
   "execution_count": 3,
   "metadata": {},
   "outputs": [
    {
     "data": {
      "text/plain": [
       "(\u001b[1m599×4 DataFrame\u001b[0m\n",
       "\u001b[1m Row \u001b[0m│\u001b[1m ColesterolTotal \u001b[0m\u001b[1m Idade \u001b[0m\u001b[1m Glicemia \u001b[0m\u001b[1m Desfecho \u001b[0m\n",
       "     │\u001b[90m Int64           \u001b[0m\u001b[90m Int64 \u001b[0m\u001b[90m Int64    \u001b[0m\u001b[90m Int64    \u001b[0m\n",
       "─────┼────────────────────────────────────────────\n",
       "   1 │             254     38        93         1\n",
       "   2 │             222     79        89        -1\n",
       "   3 │             236     64       102        -1\n",
       "   4 │             241     50       123        -1\n",
       "   5 │             167     34        82        -1\n",
       "   6 │             238     48        90         1\n",
       "   7 │             233     35       129         1\n",
       "   8 │             189     20       133        -1\n",
       "  ⋮  │        ⋮           ⋮       ⋮         ⋮\n",
       " 593 │             196     43       101        -1\n",
       " 594 │             181     61       103        -1\n",
       " 595 │             240     29        79        -1\n",
       " 596 │             230     69        90        -1\n",
       " 597 │             237     43        93        -1\n",
       " 598 │             191     59        94        -1\n",
       " 599 │             260     43       132         1\n",
       "\u001b[36m                                  584 rows omitted\u001b[0m, \u001b[1m200×4 DataFrame\u001b[0m\n",
       "\u001b[1m Row \u001b[0m│\u001b[1m ColesterolTotal \u001b[0m\u001b[1m Idade \u001b[0m\u001b[1m Glicemia \u001b[0m\u001b[1m Desfecho \u001b[0m\n",
       "     │\u001b[90m Int64           \u001b[0m\u001b[90m Int64 \u001b[0m\u001b[90m Int64    \u001b[0m\u001b[90m Int64    \u001b[0m\n",
       "─────┼────────────────────────────────────────────\n",
       "   1 │             229     41       148         1\n",
       "   2 │             230     54        96        -1\n",
       "   3 │             245     27       139        -1\n",
       "   4 │             188     63        81        -1\n",
       "   5 │             234     41       131        -1\n",
       "   6 │             163     77       142        -1\n",
       "   7 │             175     70       139        -1\n",
       "   8 │             190     21        83        -1\n",
       "  ⋮  │        ⋮           ⋮       ⋮         ⋮\n",
       " 194 │             232     69        94         1\n",
       " 195 │             232     60       121        -1\n",
       " 196 │             183     30       103        -1\n",
       " 197 │             165     68        95        -1\n",
       " 198 │             165     58       145        -1\n",
       " 199 │             249     66        96         1\n",
       " 200 │             170     54       140        -1\n",
       "\u001b[36m                                  185 rows omitted\u001b[0m)"
      ]
     },
     "metadata": {},
     "output_type": "display_data"
    }
   ],
   "source": [
    "df = CSV.read(\"data/dataset_ic2023.csv\", DataFrame)\n",
    "df = rename(df, \"Colesterol Total\" => :ColesterolTotal)\n",
    "\n",
    "df_train, df_test = MLJ.partition(df, 0.75, multi=true)"
   ]
  },
  {
   "cell_type": "code",
   "execution_count": 125,
   "metadata": {},
   "outputs": [
    {
     "name": "stderr",
     "output_type": "stream",
     "text": [
      "WARNING: replacing module SubsetSelection.\n"
     ]
    }
   ],
   "source": [
    "include(\"SubsetSelection.jl\")\n",
    "using .SubsetSelection"
   ]
  },
  {
   "cell_type": "code",
   "execution_count": 80,
   "metadata": {},
   "outputs": [
    {
     "name": "stderr",
     "output_type": "stream",
     "text": [
      "WARNING: replacing module ModelEstimation.\n"
     ]
    }
   ],
   "source": [
    "include(\"ModelEstimation.jl\")\n",
    "using .ModelEstimation"
   ]
  },
  {
   "cell_type": "code",
   "execution_count": 81,
   "metadata": {},
   "outputs": [
    {
     "data": {
      "text/plain": [
       "Main.ModelEstimation.Model(Dict{Int64, Any}(4 => machine(LogisticClassifier(lambda = 2.220446049250313e-16, …), …), 2 => machine(LogisticClassifier(lambda = 2.220446049250313e-16, …), …), 3 => machine(LogisticClassifier(lambda = 2.220446049250313e-16, …), …), 1 => machine(LogisticClassifier(lambda = 2.220446049250313e-16, …), …)), Dict(4 => [2], 2 => [1, 2], 3 => [1], 1 => [2, 3]), Dict{Int64, Any}(4 => [181.14492753623188 46.58695652173913 141.68840579710144], 2 => [239.2312925170068 45.775510204081634 139.8639455782313], 3 => [179.68421052631578 41.80921052631579 89.49342105263158], 1 => [239.37654320987653 47.23456790123457 90.0]))"
      ]
     },
     "metadata": {},
     "output_type": "display_data"
    }
   ],
   "source": [
    "features = [:ColesterolTotal, :Idade, :Glicemia]\n",
    "target = :Desfecho\n",
    "\n",
    "X = Matrix(df_train[!, features])\n",
    "y = df_train[:, target]\n",
    "\n",
    "model = ModelEstimation.train_model(X, y)"
   ]
  },
  {
   "cell_type": "code",
   "execution_count": 114,
   "metadata": {},
   "outputs": [
    {
     "data": {
      "text/plain": [
       "trained Machine; caches model-specific representations of data\n",
       "  model: SVC(kernel = Linear, …)\n",
       "  args: \n",
       "    1:\tSource @704 ⏎ AbstractMatrix{Count}\n",
       "    2:\tSource @147 ⏎ AbstractVector{Multiclass{2}}\n"
      ]
     },
     "metadata": {},
     "output_type": "display_data"
    }
   ],
   "source": [
    "mach = machine((@load SVC pkg=LIBSVM verbosity=0)(kernel=LIBSVM.Kernel.Linear), X, y, scitype_check_level=0)\n",
    "MLJBase.fit!(mach, verbosity=0)"
   ]
  },
  {
   "cell_type": "code",
   "execution_count": 116,
   "metadata": {},
   "outputs": [
    {
     "data": {
      "text/plain": [
       "0.7595993322203672"
      ]
     },
     "metadata": {},
     "output_type": "display_data"
    }
   ],
   "source": [
    "ŷ = MLJBase.predict(mach, X)\n",
    "accuracy(ŷ, y)"
   ]
  },
  {
   "cell_type": "code",
   "execution_count": 117,
   "metadata": {},
   "outputs": [
    {
     "data": {
      "text/plain": [
       "0.795"
      ]
     },
     "metadata": {},
     "output_type": "display_data"
    }
   ],
   "source": [
    "ŷ = MLJBase.predict(mach, X_test)\n",
    "accuracy(ŷ, y_test)"
   ]
  },
  {
   "cell_type": "code",
   "execution_count": 126,
   "metadata": {},
   "outputs": [
    {
     "data": {
      "text/plain": [
       "([1, 2, 3], machine(SVC(kernel = RadialBasis, …), …))"
      ]
     },
     "metadata": {},
     "output_type": "display_data"
    }
   ],
   "source": [
    "n_features = 3\n",
    "\n",
    "input_log = SubsetSelection.SubsetSelectionInput(n_features, X, y, svm())\n",
    "\n",
    "results = SubsetSelection.bestSubsetSelection(input_log)"
   ]
  },
  {
   "cell_type": "code",
   "execution_count": null,
   "metadata": {},
   "outputs": [],
   "source": [
    "n_features = 3\n",
    "features = [:ColesterolTotal, :Idade, :Glicemia]\n",
    "\n",
    "X = Matrix(df_train[:, features])\n",
    "G = X * X';\n",
    "D = sqrt.(diag(G) .+ diag(G)' .- 2 .* G);\n",
    "\n",
    "clust = hclust(D, linkage=:complete)\n",
    "clusters = cutree(clust, k=4)\n",
    "df_train[!,:Cluster] = clusters"
   ]
  },
  {
   "cell_type": "code",
   "execution_count": null,
   "metadata": {},
   "outputs": [],
   "source": [
    "total = size(df_train)[1]\n",
    "weights = Dict()\n",
    "for cluster in unique(clusters)\n",
    "    weights[cluster] = size(filter(row -> row[:Cluster] == cluster, df_train))[1] / total\n",
    "end"
   ]
  },
  {
   "cell_type": "code",
   "execution_count": 121,
   "metadata": {},
   "outputs": [
    {
     "data": {
      "text/plain": [
       "MLJXGBoostInterface.XGBoostClassifier"
      ]
     },
     "metadata": {},
     "output_type": "display_data"
    }
   ],
   "source": [
    "# log = @load LogisticClassifier pkg=MLJLinearModels verbosity=0\n",
    "svm = @load SVC pkg=LIBSVM verbosity=0\n",
    "boost = @load XGBoostClassifier pkg=XGBoost verbosity=0"
   ]
  },
  {
   "cell_type": "code",
   "execution_count": 99,
   "metadata": {},
   "outputs": [
    {
     "ename": "UndefVarError",
     "evalue": "UndefVarError: clusters not defined",
     "output_type": "error",
     "traceback": [
      "UndefVarError: clusters not defined\n",
      "\n",
      "Stacktrace:\n",
      " [1] top-level scope\n",
      "   @ ~/Documents/IC2Project/src/notebook.ipynb:5"
     ]
    }
   ],
   "source": [
    "results = Dict()\n",
    "\n",
    "target = :Desfecho\n",
    "\n",
    "for cluster in unique(clusters)\n",
    "    filtered_df = filter(row -> row[:Cluster] == cluster, df_train)\n",
    "    X = Matrix(filtered_df[!, features])\n",
    "    y = categorical(filtered_df[:, target])\n",
    "\n",
    "    input_log = SubsetSelection.SubsetSelectionInput(n_features, X, y, log())\n",
    "\n",
    "    results[cluster] = SubsetSelection.bestSubsetSelection(input_log)\n",
    "end"
   ]
  },
  {
   "cell_type": "code",
   "execution_count": null,
   "metadata": {},
   "outputs": [],
   "source": [
    "avg_oof_acc = 0\n",
    "for cluster in unique(clusters)\n",
    "    avg_oof_acc += results[cluster][2][results[cluster][1]] * weights[cluster]\n",
    "end\n",
    "avg_oof_acc"
   ]
  },
  {
   "cell_type": "code",
   "execution_count": null,
   "metadata": {},
   "outputs": [],
   "source": [
    "for cluster in unique(clusters)\n",
    "    filtered_df = filter(row -> row[:Cluster] == cluster, df_train)\n",
    "    X = Matrix(filtered_df[!, features])\n",
    "    y = categorical(filtered_df[:, target])\n",
    "\n",
    "    input_boost = SubsetSelection.SubsetSelectionInput(n_features, X, y, boost())\n",
    "\n",
    "    results[cluster] = SubsetSelection.bestSubsetSelection(input_boost)\n",
    "end"
   ]
  },
  {
   "cell_type": "code",
   "execution_count": null,
   "metadata": {},
   "outputs": [],
   "source": [
    "X =  MLJ.table(Matrix(df_train[!, features]))\n",
    "y = categorical(df_train[:, target])\n",
    "\n",
    "mach = machine(svm(), X, y, scitype_check_level=0)\n",
    "\n",
    "MLJBase.fit!(mach, verbosity=0)\n",
    "\n",
    "ŷ_dist = MLJBase.predict(mach, X)\n",
    "# ŷ = mode.(ŷ_dist)\n",
    "\n",
    "acc = accuracy(ŷ_dist, y)\n",
    "\n",
    "println(\"Accuracy: \", acc, \" | Features: \", features)"
   ]
  },
  {
   "cell_type": "code",
   "execution_count": null,
   "metadata": {},
   "outputs": [],
   "source": [
    "X_test = MLJ.table(Matrix(df_test[!, features]))\n",
    "y_test = categorical(df_test[:, target])\n",
    "\n",
    "ŷ_dist = MLJBase.predict(mach, X_test)\n",
    "# ŷ = mode.(ŷ_dist)\n",
    "\n",
    "acc = accuracy(ŷ_dist, y_test)\n",
    "println(\"Accuracy: \", acc, \" | Features: \", features)"
   ]
  },
  {
   "cell_type": "code",
   "execution_count": null,
   "metadata": {},
   "outputs": [],
   "source": [
    "results"
   ]
  },
  {
   "cell_type": "code",
   "execution_count": null,
   "metadata": {},
   "outputs": [],
   "source": [
    "avg_oof_acc = 0\n",
    "for cluster in unique(clusters)\n",
    "    avg_oof_acc += results[cluster][2][results[cluster][1]] * weights[cluster]\n",
    "end\n",
    "avg_oof_acc"
   ]
  },
  {
   "cell_type": "code",
   "execution_count": null,
   "metadata": {},
   "outputs": [],
   "source": [
    "for cluster in unique(clusters)\n",
    "    filtered_df = filter(row -> row[:Cluster] == cluster, df_train)\n",
    "    X = Matrix(filtered_df[!, features])\n",
    "    y = categorical(filtered_df[:, target])\n",
    "\n",
    "    input_svm = SubsetSelection.SubsetSelectionInput(n_features, X, y, svm())\n",
    "\n",
    "    results[cluster] = SubsetSelection.bestSubsetSelection(input_svm)\n",
    "end"
   ]
  },
  {
   "cell_type": "code",
   "execution_count": null,
   "metadata": {},
   "outputs": [],
   "source": [
    "avg_oof_acc = 0\n",
    "for cluster in unique(clusters)\n",
    "    avg_oof_acc += results[cluster][2][results[cluster][1]] * weights[cluster]\n",
    "end\n",
    "avg_oof_acc"
   ]
  },
  {
   "cell_type": "code",
   "execution_count": null,
   "metadata": {},
   "outputs": [],
   "source": [
    "PlotlyJS.plot(PlotlyJS.scatter(\n",
    "    x=df_train[!,:ColesterolTotal], y=df_train[!,:Idade], z=df_train[!,:Glicemia],\n",
    "    mode=\"markers\",\n",
    "    marker=attr(\n",
    "        size=6,\n",
    "        color=df_train[!,:Desfecho],\n",
    "        colorscale=\"Viridis\",\n",
    "        opacity=0.8\n",
    "    ),\n",
    "    type=\"scatter3d\"\n",
    "), Layout(margin=attr(l=0, r=0, b=0, t=0), showlegend=true))"
   ]
  },
  {
   "cell_type": "code",
   "execution_count": null,
   "metadata": {},
   "outputs": [],
   "source": [
    "PlotlyJS.plot(df_train, x=:ColesterolTotal, y=:Idade, color=:Desfecho, mode=\"markers\", type=\"scatter\")"
   ]
  },
  {
   "cell_type": "code",
   "execution_count": null,
   "metadata": {},
   "outputs": [],
   "source": [
    "PlotlyJS.plot(df_train, x=:ColesterolTotal, y=:Glicemia, color=:Desfecho, mode=\"markers\", type=\"scatter\")"
   ]
  },
  {
   "cell_type": "code",
   "execution_count": null,
   "metadata": {},
   "outputs": [],
   "source": [
    "PlotlyJS.plot(df_train, x=:Idade, y=:Glicemia, color=:Desfecho, mode=\"markers\", type=\"scatter\")"
   ]
  }
 ],
 "metadata": {
  "kernelspec": {
   "display_name": "Julia 1.8.5",
   "language": "julia",
   "name": "julia-1.8"
  },
  "language_info": {
   "file_extension": ".jl",
   "mimetype": "application/julia",
   "name": "julia",
   "version": "1.8.5"
  },
  "orig_nbformat": 4
 },
 "nbformat": 4,
 "nbformat_minor": 2
}
